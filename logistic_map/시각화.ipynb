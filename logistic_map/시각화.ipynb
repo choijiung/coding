{
 "cells": [
  {
   "cell_type": "code",
   "execution_count": 3,
   "id": "6adb35c9",
   "metadata": {
    "scrolled": true
   },
   "outputs": [
    {
     "name": "stdout",
     "output_type": "stream",
     "text": [
      "[9919, 10610, 10176, 10170, 10073, 9860, 9962, 9789, 9705, 9735]\n"
     ]
    },
    {
     "data": {
      "image/png": "[encoded data removed]",
      "text/plain": [
       "<Figure size 640x480 with 1 Axes>"
      ]
     },
     "metadata": {},
     "output_type": "display_data"
    }
   ],
   "source": [
    "import time\n",
    "def random_num():\n",
    "    seed = time.time()*10000\n",
    "    seed_str = str(seed)\n",
    "    seed_digits = int(seed_str[10:14])\n",
    "    for i in range(1,100):\n",
    "        seed_square = seed_digits**2\n",
    "        seed_square_str = str(seed_square)\n",
    "        length = len(seed_square_str)\n",
    "        start_index = int((length-4)/2)\n",
    "        middle_num = seed_square_str[start_index:start_index+4]\n",
    "    return middle_num\n",
    "zero  = 0\n",
    "one = 0\n",
    "two = 0\n",
    "three = 0\n",
    "four = 0\n",
    "five = 0\n",
    "six = 0\n",
    "seven = 0\n",
    "eight = 0\n",
    "nine = 0\n",
    "for i in range(1, 100000):\n",
    "    num = str(random_num())\n",
    "    first = int(num[0:1])\n",
    "    if first==0:\n",
    "        zero += 1\n",
    "    elif first == 1:\n",
    "        one += 1\n",
    "    elif first == 2:\n",
    "        two += 1\n",
    "    elif first == 3:\n",
    "        three += 1\n",
    "    elif first == 4:\n",
    "        four += 1\n",
    "    elif first == 5:\n",
    "        five += 1\n",
    "    elif first == 6:\n",
    "        six += 1\n",
    "    elif first == 7:\n",
    "        seven += 1\n",
    "    elif first == 8:\n",
    "        eight += 1\n",
    "    elif first == 9:\n",
    "        nine += 1\n",
    "    list = [zero, one, two, three, four, five, six, seven, eight, nine]\n",
    "print(list)\n",
    "import matplotlib.pyplot as plt\n",
    "import numpy as np\n",
    "x = np.arange(10)\n",
    "bar = plt.bar(x, list)"
   ]
  },
  {
   "cell_type": "code",
   "execution_count": null,
   "id": "d687d044",
   "metadata": {},
   "outputs": [],
   "source": []
  }
 ],
 "metadata": {
  "kernelspec": {
   "display_name": "Python 3 (ipykernel)",
   "language": "python",
   "name": "python3"
  },
  "language_info": {
   "codemirror_mode": {
    "name": "ipython",
    "version": 3
   },
   "file_extension": ".py",
   "mimetype": "text/x-python",
   "name": "python",
   "nbconvert_exporter": "python",
   "pygments_lexer": "ipython3",
   "version": "3.9.13"
  }
 },
 "nbformat": 4,
 "nbformat_minor": 5
}
